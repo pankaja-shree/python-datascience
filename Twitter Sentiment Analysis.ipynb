{
 "cells": [
  {
   "cell_type": "code",
   "execution_count": 15,
   "metadata": {},
   "outputs": [
    {
     "name": "stdout",
     "output_type": "stream",
     "text": [
      "Trump reportedly exaggerated the importance of Saudi arms sales https://t.co/cTYa2GEcUc\n",
      "Sentiment(polarity=-0.5, subjectivity=1.0)\n",
      "\n",
      "RT @AP_Politics: BREAKING: Judge bars Trump administration from refusing asylum to immigrants who cross southern border illegally.\n",
      "Sentiment(polarity=-0.16666666666666666, subjectivity=0.16666666666666666)\n",
      "\n",
      "@Yamiche “President Trump...is the most accessible president in modern history.” — uhhhh... sure....love how they s… https://t.co/OuFoBWe7rg\n",
      "Sentiment(polarity=0.35833333333333334, subjectivity=0.39166666666666666)\n",
      "\n",
      "RT @JoeNBC: A lie. @realDonaldTrump is obviously terrified to sit across the table from Mueller—a St Paul’s and Princeton grad. Trump feels…\n",
      "Sentiment(polarity=0.0, subjectivity=0.5)\n",
      "\n",
      "RT @TheRickyDavila: Ivanka trump is a sweatshop owning criminal, married to a criminal, sister of criminal animal murderers and daughter-wi…\n",
      "Sentiment(polarity=-0.23750000000000002, subjectivity=0.47500000000000003)\n",
      "\n",
      "RT @pollsofpolitics: Do you believe @POTUS @realDonaldTrump when he says there was no collusion between his campaign and #Russia??\n",
      "\n",
      "Please…\n",
      "Sentiment(polarity=0.0, subjectivity=0.0)\n",
      "\n",
      "RT @CNN: Ivanka Trump last year often used a personal email account to discuss or relay official White House business, according to emails…\n",
      "Sentiment(polarity=0.0, subjectivity=0.12222222222222222)\n",
      "\n",
      "Report: Trump Told Aides He’s Afraid to Visit Troops in Combat Zones https://t.co/xQmR0pf0Vo via @thedailybeast\n",
      "Sentiment(polarity=-0.6, subjectivity=0.9)\n",
      "\n",
      "Federal mahkemeden Trump'ın iltica kararına durdurma https://t.co/3JdHrrrkHj https://t.co/TdgVqcv9uw\n",
      "Sentiment(polarity=0.0, subjectivity=0.0)\n",
      "\n",
      "@realDonaldTrump https://t.co/Es7tfqzdse\n",
      "Sentiment(polarity=0.0, subjectivity=0.0)\n",
      "\n",
      "RT @CathyYoung63: The twist in Trump's \"I pointed out Osama Bin Laden in my book pre-9/11\" claim: what he actually did in that one line in…\n",
      "Sentiment(polarity=0.0, subjectivity=0.1)\n",
      "\n",
      "RT @jdice03: According to this report, the Trump administration is helping Saudi Prince MBS literally get away with murder. https://t.co/Cl…\n",
      "Sentiment(polarity=0.0, subjectivity=0.0)\n",
      "\n",
      "RT @DMRDynamics: @marcorubio You don't have the courage to directly call out or name the person who defamed Adm. McRaven - Donald Trump.\n",
      "\n",
      "W…\n",
      "Sentiment(polarity=0.1, subjectivity=0.4)\n",
      "\n",
      "RT @AriMelber: Reporter who just broke Ivanka Trump email story just now: https://t.co/G1ZuN7kaUn\n",
      "Sentiment(polarity=0.0, subjectivity=0.0)\n",
      "\n",
      "@jameshohmann Slow news day??? Welcome to going on 2 years ago! Heres the cliff notes:  “Ms. Trump did not create a… https://t.co/duyRwtpgMc\n",
      "Sentiment(polarity=0.35, subjectivity=0.65)\n",
      "\n"
     ]
    }
   ],
   "source": [
    "import tweepy\n",
    "import csv\n",
    "from textblob import TextBlob\n",
    "\n",
    "# Step 1 - Authenticate\n",
    "consumer_key= 'ouArjqMFqXVMKOVrnU9eVfIeR'\n",
    "consumer_secret= 'EgMBCcHHTWsxe60ui17tt0X33ecl5GAmj5kFa60oYGL40FMciw'\n",
    "\n",
    "access_token='26973609-08jX7lSlaPdIl7oyom0GRqSIbKWnO5IR6BWDcRnHL'\n",
    "access_token_secret='EosatTJj5iMKwqNxl8hq31l8laylNzzP82nGwOmXJCLgm'\n",
    "\n",
    "auth = tweepy.OAuthHandler(consumer_key, consumer_secret)\n",
    "auth.set_access_token(access_token, access_token_secret)\n",
    "\n",
    "api = tweepy.API(auth)\n",
    "\n",
    "#Step 3 - Retrieve Tweets\n",
    "public_tweets = api.search('Trump')\n",
    "\n",
    "#Print tweet and sentiment analysis\n",
    "for tweet in public_tweets:\n",
    "    print(tweet.text)\n",
    "    \n",
    "    #Step 4 Perform Sentiment Analysis on Tweets\n",
    "    analysis = TextBlob(tweet.text)\n",
    "    print(analysis.sentiment)\n",
    "    print(\"\")"
   ]
  },
  {
   "cell_type": "code",
   "execution_count": 17,
   "metadata": {},
   "outputs": [],
   "source": [
    "#CHALLENGE - Instead of printing out each tweet, save each Tweet to a CSV file\n",
    "#and label each one as either 'positive' or 'negative', depending on the sentiment \n",
    "#You can decide the sentiment polarity threshold yourself\n",
    "\n",
    "with open('sentiment.csv', 'w', newline='\\n', encoding='utf-8') as csvFile:\n",
    "    csvFile.write('tweet,sentiment_label\\n')\n",
    "    writer = csv.writer(csvFile)\n",
    "    for tweet in public_tweets:\n",
    "        text = tweet.text\n",
    "        #Cleaning tweet\n",
    "        cleanedtext = ' '.join([word for word in text.split(' ') if len(word) > 0 and word[0] != '@' and word[0] != '.' and word[0] != '#' and 'http' not in word and word != 'RT'])\n",
    "        #Perform Sentiment Analysis on Tweets\n",
    "        analysis = TextBlob(cleanedtext)\n",
    "        if analysis.sentiment[0] > 0:\n",
    "            writer.writerow('%s,positive\\n' % tweet.text.encode('utf8'))\n",
    "        else:\n",
    "            writer.writerow('%s,negative\\n' % tweet.text.encode('utf8'))\n",
    "csvFile.close()"
   ]
  },
  {
   "cell_type": "code",
   "execution_count": null,
   "metadata": {},
   "outputs": [],
   "source": []
  }
 ],
 "metadata": {
  "kernelspec": {
   "display_name": "Python 3",
   "language": "python",
   "name": "python3"
  },
  "language_info": {
   "codemirror_mode": {
    "name": "ipython",
    "version": 3
   },
   "file_extension": ".py",
   "mimetype": "text/x-python",
   "name": "python",
   "nbconvert_exporter": "python",
   "pygments_lexer": "ipython3",
   "version": "3.6.5"
  }
 },
 "nbformat": 4,
 "nbformat_minor": 2
}
